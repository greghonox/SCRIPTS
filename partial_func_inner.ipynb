{
 "cells": [
  {
   "cell_type": "code",
   "execution_count": 23,
   "metadata": {},
   "outputs": [],
   "source": [
    "from functools import partial\n",
    "\n",
    "add = lambda x, y: x + y\n",
    "sub = lambda x, y: x - y\n",
    "div = lambda x, y: x / y\n",
    "mul = lambda x, y: x * y"
   ]
  },
  {
   "cell_type": "code",
   "execution_count": 24,
   "metadata": {},
   "outputs": [
    {
     "name": "stdout",
     "output_type": "stream",
     "text": [
      "5\n",
      "7\n",
      "5.0\n",
      "30\n"
     ]
    },
    {
     "name": "stdout",
     "output_type": "stream",
     "text": [
      "\u001b[0;31mSignature:\u001b[0m \u001b[0madd\u001b[0m\u001b[0;34m(\u001b[0m\u001b[0mx\u001b[0m\u001b[0;34m,\u001b[0m \u001b[0my\u001b[0m\u001b[0;34m)\u001b[0m\u001b[0;34m\u001b[0m\u001b[0;34m\u001b[0m\u001b[0m\n",
      "\u001b[0;31mDocstring:\u001b[0m <no docstring>\n",
      "\u001b[0;31mFile:\u001b[0m      /tmp/ipykernel_27584/4053561186.py\n",
      "\u001b[0;31mType:\u001b[0m      function"
     ]
    }
   ],
   "source": [
    "my_add = partial(add, 2)\n",
    "print(my_add(3))\n",
    "\n",
    "my_sub = partial(sub, 10)\n",
    "print(my_sub(3))\n",
    "\n",
    "my_div = partial(div, 10)\n",
    "print(my_div(2))\n",
    "\n",
    "my_mul = partial(mul, 10)\n",
    "print(my_mul(3))\n",
    "add?"
   ]
  },
  {
   "cell_type": "code",
   "execution_count": 25,
   "metadata": {},
   "outputs": [],
   "source": [
    "def calc(func):\n",
    "    def inner(x, y):\n",
    "        yield from map(func, x, y)\n",
    "    return inner\n"
   ]
  },
  {
   "cell_type": "code",
   "execution_count": 26,
   "metadata": {},
   "outputs": [
    {
     "name": "stdout",
     "output_type": "stream",
     "text": [
      "[11, 5]\n",
      "['gh', 'ro', 'en', 'go', 'or', 'ra', 'it', 'oo']\n",
      "[-1, -1]\n",
      "[0.8333333333333334, 0.6666666666666666]\n",
      "[30, 6]\n"
     ]
    }
   ],
   "source": [
    "add = calc(lambda x, y: x + y)\n",
    "print(list(add([5, 2], [6, 3])))\n",
    "print(list(add('gregorio', 'honorato')))\n",
    "\n",
    "sub = calc(lambda x, y: x - y)\n",
    "print(list(sub([5, 2], [6, 3])))\n",
    "\n",
    "div = calc(lambda x, y: x / y)\n",
    "print(list(div([5, 2], [6, 3])))\n",
    "\n",
    "mul = calc(lambda x, y: x * y)\n",
    "print(list(mul([5, 2], [6, 3])))\n",
    "\n",
    "\n"
   ]
  }
 ],
 "metadata": {
  "kernelspec": {
   "display_name": ".venv",
   "language": "python",
   "name": "python3"
  },
  "language_info": {
   "codemirror_mode": {
    "name": "ipython",
    "version": 3
   },
   "file_extension": ".py",
   "mimetype": "text/x-python",
   "name": "python",
   "nbconvert_exporter": "python",
   "pygments_lexer": "ipython3",
   "version": "3.10.13"
  }
 },
 "nbformat": 4,
 "nbformat_minor": 2
}

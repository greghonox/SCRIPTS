{
 "cells": [
  {
   "cell_type": "markdown",
   "metadata": {},
   "source": [
    "### Test for lib retry"
   ]
  },
  {
   "cell_type": "code",
   "execution_count": 9,
   "metadata": {},
   "outputs": [],
   "source": [
    "import random\n",
    "from retrying import retry"
   ]
  },
  {
   "cell_type": "code",
   "execution_count": 60,
   "metadata": {},
   "outputs": [
    {
     "name": "stdout",
     "output_type": "stream",
     "text": [
      "It worked with number 3\n",
      "It worked with number 0\n",
      "Awesome sauce!\n"
     ]
    }
   ],
   "source": [
    "@retry\n",
    "def do_something_unreliable():\n",
    "    number = random.randint(0, 10)\n",
    "    print(f\"It worked with number {number}\")\n",
    "    if number > 1:\n",
    "        raise IOError(\"Broken sauce, everything is hosed!!!111one\")\n",
    "    else:\n",
    "        return \"Awesome sauce!\"\n",
    "\n",
    "print(do_something_unreliable())"
   ]
  },
  {
   "cell_type": "code",
   "execution_count": 62,
   "metadata": {},
   "outputs": [],
   "source": [
    "def retry_if_error(exception: Exception) -> bool:\n",
    "    \"\"\"\n",
    "    Return True if we should retry (in this case when it's an IOError or ValueError), False otherwise.\n",
    "\n",
    "    Parameters:\n",
    "    exception (Exception): The exception that occurred.\n",
    "\n",
    "    Returns:\n",
    "    bool: True if retry is needed, False otherwise.\n",
    "    \"\"\"\n",
    "    if isinstance(exception, (IOError, ValueError)):\n",
    "        print(f'retrying... with error found: \"{str(exception)}\"')\n",
    "        return True\n",
    "    print(f'Error type: {type(exception)}')\n",
    "    return False\n",
    "\n",
    "def execute(number: int) -> None:\n",
    "    print(f'Try number {number}')\n",
    "    if number == 0:\n",
    "        raise Exception(f\"This exception was not try with number: {number}\")\n",
    "    if number > 5:\n",
    "        raise IOError(f\"An IOError occurred with number: {number}\")\n",
    "    if number > 1:\n",
    "        raise ValueError(f\"A ValueError occurred with number: {number}\")\n",
    "    print(f\"finished func with number {number}\")    "
   ]
  },
  {
   "cell_type": "code",
   "execution_count": 66,
   "metadata": {},
   "outputs": [
    {
     "name": "stdout",
     "output_type": "stream",
     "text": [
      "initiating func()\n",
      "Try number 1\n",
      "finished func with number 1\n",
      "finished func()\n"
     ]
    }
   ],
   "source": [
    "time_await = 3000\n",
    "stop_max_attempt_number = 5\n",
    "\n",
    "@retry(retry_on_exception=retry_if_error, wait_fixed=time_await, stop_max_attempt_number=stop_max_attempt_number)\n",
    "def might_io_error() -> None:\n",
    "    number = random.randint(0, 10)\n",
    "    execute(number)\n",
    "\n",
    "\n",
    "func = might_io_error\n",
    "print('initiating func()')\n",
    "func()\n",
    "print('finished func()')"
   ]
  },
  {
   "cell_type": "code",
   "execution_count": 64,
   "metadata": {},
   "outputs": [],
   "source": [
    "class MethodClassError:\n",
    "    def __call__(self):\n",
    "        number = random.randint(0, 10)\n",
    "        execute(number)\n",
    "        print(f\"finished func with number {number}\")\n",
    "        \n",
    "        \n",
    "time_await = 3000\n",
    "stop_max_attempt_number = 5\n",
    "\n",
    "\n",
    "@retry(retry_on_exception=retry_if_error, wait_fixed=time_await, stop_max_attempt_number=stop_max_attempt_number)\n",
    "def call_class():\n",
    "    _class = MethodClassError()\n",
    "    print('initiating class()')\n",
    "    _class()\n",
    "    print('finished class()')"
   ]
  },
  {
   "cell_type": "code",
   "execution_count": 65,
   "metadata": {},
   "outputs": [
    {
     "name": "stdout",
     "output_type": "stream",
     "text": [
      "initiating class()\n",
      "Try number 1\n",
      "finished func with number 1\n",
      "finished func with number 1\n",
      "finished class()\n"
     ]
    }
   ],
   "source": [
    "call_class()"
   ]
  }
 ],
 "metadata": {
  "kernelspec": {
   "display_name": ".venv",
   "language": "python",
   "name": "python3"
  },
  "language_info": {
   "codemirror_mode": {
    "name": "ipython",
    "version": 3
   },
   "file_extension": ".py",
   "mimetype": "text/x-python",
   "name": "python",
   "nbconvert_exporter": "python",
   "pygments_lexer": "ipython3",
   "version": "3.12.0"
  }
 },
 "nbformat": 4,
 "nbformat_minor": 2
}

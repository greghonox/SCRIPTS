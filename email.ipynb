{
 "cells": [
  {
   "cell_type": "code",
   "execution_count": 44,
   "metadata": {},
   "outputs": [],
   "source": [
    "import imaplib\n",
    "import email"
   ]
  },
  {
   "cell_type": "code",
   "execution_count": 45,
   "metadata": {},
   "outputs": [],
   "source": [
    "user = 'c1@avidatoda.com.br'\n",
    "password = '@Inss1234'\n",
    "host = 'pop.hostinger.com'"
   ]
  },
  {
   "cell_type": "code",
   "execution_count": 46,
   "metadata": {},
   "outputs": [],
   "source": [
    "imap = imaplib.IMAP4_SSL(host)"
   ]
  },
  {
   "cell_type": "code",
   "execution_count": 47,
   "metadata": {},
   "outputs": [
    {
     "ename": "error",
     "evalue": "b'[AUTHENTICATIONFAILED] Authentication failed.'",
     "output_type": "error",
     "traceback": [
      "\u001b[0;31m---------------------------------------------------------------------------\u001b[0m",
      "\u001b[0;31merror\u001b[0m                                     Traceback (most recent call last)",
      "Cell \u001b[0;32mIn[47], line 1\u001b[0m\n\u001b[0;32m----> 1\u001b[0m imap\u001b[39m.\u001b[39;49mlogin(user, password)\n\u001b[1;32m      2\u001b[0m imap\u001b[39m.\u001b[39mselect(\u001b[39m'\u001b[39m\u001b[39mInbox\u001b[39m\u001b[39m'\u001b[39m)\n\u001b[1;32m      3\u001b[0m tmp, messages \u001b[39m=\u001b[39m imap\u001b[39m.\u001b[39msearch(\u001b[39mNone\u001b[39;00m, \u001b[39m'\u001b[39m\u001b[39mALL\u001b[39m\u001b[39m'\u001b[39m)\n",
      "File \u001b[0;32m~/.pyenv/versions/3.8.12/lib/python3.8/imaplib.py:603\u001b[0m, in \u001b[0;36mIMAP4.login\u001b[0;34m(self, user, password)\u001b[0m\n\u001b[1;32m    601\u001b[0m typ, dat \u001b[39m=\u001b[39m \u001b[39mself\u001b[39m\u001b[39m.\u001b[39m_simple_command(\u001b[39m'\u001b[39m\u001b[39mLOGIN\u001b[39m\u001b[39m'\u001b[39m, user, \u001b[39mself\u001b[39m\u001b[39m.\u001b[39m_quote(password))\n\u001b[1;32m    602\u001b[0m \u001b[39mif\u001b[39;00m typ \u001b[39m!=\u001b[39m \u001b[39m'\u001b[39m\u001b[39mOK\u001b[39m\u001b[39m'\u001b[39m:\n\u001b[0;32m--> 603\u001b[0m     \u001b[39mraise\u001b[39;00m \u001b[39mself\u001b[39m\u001b[39m.\u001b[39merror(dat[\u001b[39m-\u001b[39m\u001b[39m1\u001b[39m])\n\u001b[1;32m    604\u001b[0m \u001b[39mself\u001b[39m\u001b[39m.\u001b[39mstate \u001b[39m=\u001b[39m \u001b[39m'\u001b[39m\u001b[39mAUTH\u001b[39m\u001b[39m'\u001b[39m\n\u001b[1;32m    605\u001b[0m \u001b[39mreturn\u001b[39;00m typ, dat\n",
      "\u001b[0;31merror\u001b[0m: b'[AUTHENTICATIONFAILED] Authentication failed.'"
     ]
    }
   ],
   "source": [
    "imap.login(user, password)\n",
    "imap.select('Inbox')\n",
    "tmp, messages = imap.search(None, 'ALL')"
   ]
  },
  {
   "cell_type": "code",
   "execution_count": null,
   "metadata": {},
   "outputs": [
    {
     "ename": "abort",
     "evalue": "command: FETCH => FETCH failed: Mailbox was deleted under us",
     "output_type": "error",
     "traceback": [
      "\u001b[0;31m---------------------------------------------------------------------------\u001b[0m",
      "\u001b[0;31mabort\u001b[0m                                     Traceback (most recent call last)",
      "File \u001b[0;32m~/.pyenv/versions/3.8.12/lib/python3.8/imaplib.py:1022\u001b[0m, in \u001b[0;36mIMAP4._command_complete\u001b[0;34m(self, name, tag)\u001b[0m\n\u001b[1;32m   1021\u001b[0m \u001b[39mtry\u001b[39;00m:\n\u001b[0;32m-> 1022\u001b[0m     typ, data \u001b[39m=\u001b[39m \u001b[39mself\u001b[39;49m\u001b[39m.\u001b[39;49m_get_tagged_response(tag, expect_bye\u001b[39m=\u001b[39;49mlogout)\n\u001b[1;32m   1023\u001b[0m \u001b[39mexcept\u001b[39;00m \u001b[39mself\u001b[39m\u001b[39m.\u001b[39mabort \u001b[39mas\u001b[39;00m val:\n",
      "File \u001b[0;32m~/.pyenv/versions/3.8.12/lib/python3.8/imaplib.py:1140\u001b[0m, in \u001b[0;36mIMAP4._get_tagged_response\u001b[0;34m(self, tag, expect_bye)\u001b[0m\n\u001b[1;32m   1138\u001b[0m \u001b[39m# If we've seen a BYE at this point, the socket will be\u001b[39;00m\n\u001b[1;32m   1139\u001b[0m \u001b[39m# closed, so report the BYE now.\u001b[39;00m\n\u001b[0;32m-> 1140\u001b[0m \u001b[39mself\u001b[39;49m\u001b[39m.\u001b[39;49m_check_bye()\n\u001b[1;32m   1142\u001b[0m \u001b[39m# Some have reported \"unexpected response\" exceptions.\u001b[39;00m\n\u001b[1;32m   1143\u001b[0m \u001b[39m# Note that ignoring them here causes loops.\u001b[39;00m\n\u001b[1;32m   1144\u001b[0m \u001b[39m# Instead, send me details of the unexpected response and\u001b[39;00m\n\u001b[1;32m   1145\u001b[0m \u001b[39m# I'll update the code in `_get_response()'.\u001b[39;00m\n",
      "File \u001b[0;32m~/.pyenv/versions/3.8.12/lib/python3.8/imaplib.py:936\u001b[0m, in \u001b[0;36mIMAP4._check_bye\u001b[0;34m(self)\u001b[0m\n\u001b[1;32m    935\u001b[0m \u001b[39mif\u001b[39;00m bye:\n\u001b[0;32m--> 936\u001b[0m     \u001b[39mraise\u001b[39;00m \u001b[39mself\u001b[39m\u001b[39m.\u001b[39mabort(bye[\u001b[39m-\u001b[39m\u001b[39m1\u001b[39m]\u001b[39m.\u001b[39mdecode(\u001b[39mself\u001b[39m\u001b[39m.\u001b[39m_encoding, \u001b[39m'\u001b[39m\u001b[39mreplace\u001b[39m\u001b[39m'\u001b[39m))\n",
      "\u001b[0;31mabort\u001b[0m: FETCH failed: Mailbox was deleted under us",
      "\nDuring handling of the above exception, another exception occurred:\n",
      "\u001b[0;31mabort\u001b[0m                                     Traceback (most recent call last)",
      "Cell \u001b[0;32mIn[35], line 2\u001b[0m\n\u001b[1;32m      1\u001b[0m \u001b[39mfor\u001b[39;00m num \u001b[39min\u001b[39;00m messages[\u001b[39m0\u001b[39m]\u001b[39m.\u001b[39msplit():\n\u001b[0;32m----> 2\u001b[0m     typ, data \u001b[39m=\u001b[39m imap\u001b[39m.\u001b[39;49mfetch(num, \u001b[39m'\u001b[39;49m\u001b[39m(RFC822)\u001b[39;49m\u001b[39m'\u001b[39;49m)\n\u001b[1;32m      3\u001b[0m     email_message \u001b[39m=\u001b[39m email\u001b[39m.\u001b[39mmessage_from_bytes(data[\u001b[39m0\u001b[39m][\u001b[39m1\u001b[39m])\n\u001b[1;32m      4\u001b[0m     subject \u001b[39m=\u001b[39m email_message[\u001b[39m'\u001b[39m\u001b[39msubject\u001b[39m\u001b[39m'\u001b[39m]\n",
      "File \u001b[0;32m~/.pyenv/versions/3.8.12/lib/python3.8/imaplib.py:539\u001b[0m, in \u001b[0;36mIMAP4.fetch\u001b[0;34m(self, message_set, message_parts)\u001b[0m\n\u001b[1;32m    529\u001b[0m \u001b[39m\u001b[39m\u001b[39m\"\"\"Fetch (parts of) messages.\u001b[39;00m\n\u001b[1;32m    530\u001b[0m \n\u001b[1;32m    531\u001b[0m \u001b[39m(typ, [data, ...]) = <instance>.fetch(message_set, message_parts)\u001b[39;00m\n\u001b[0;32m   (...)\u001b[0m\n\u001b[1;32m    536\u001b[0m \u001b[39m'data' are tuples of message part envelope and data.\u001b[39;00m\n\u001b[1;32m    537\u001b[0m \u001b[39m\"\"\"\u001b[39;00m\n\u001b[1;32m    538\u001b[0m name \u001b[39m=\u001b[39m \u001b[39m'\u001b[39m\u001b[39mFETCH\u001b[39m\u001b[39m'\u001b[39m\n\u001b[0;32m--> 539\u001b[0m typ, dat \u001b[39m=\u001b[39m \u001b[39mself\u001b[39;49m\u001b[39m.\u001b[39;49m_simple_command(name, message_set, message_parts)\n\u001b[1;32m    540\u001b[0m \u001b[39mreturn\u001b[39;00m \u001b[39mself\u001b[39m\u001b[39m.\u001b[39m_untagged_response(typ, dat, name)\n",
      "File \u001b[0;32m~/.pyenv/versions/3.8.12/lib/python3.8/imaplib.py:1205\u001b[0m, in \u001b[0;36mIMAP4._simple_command\u001b[0;34m(self, name, *args)\u001b[0m\n\u001b[1;32m   1203\u001b[0m \u001b[39mdef\u001b[39;00m \u001b[39m_simple_command\u001b[39m(\u001b[39mself\u001b[39m, name, \u001b[39m*\u001b[39margs):\n\u001b[0;32m-> 1205\u001b[0m     \u001b[39mreturn\u001b[39;00m \u001b[39mself\u001b[39;49m\u001b[39m.\u001b[39;49m_command_complete(name, \u001b[39mself\u001b[39;49m\u001b[39m.\u001b[39;49m_command(name, \u001b[39m*\u001b[39;49margs))\n",
      "File \u001b[0;32m~/.pyenv/versions/3.8.12/lib/python3.8/imaplib.py:1024\u001b[0m, in \u001b[0;36mIMAP4._command_complete\u001b[0;34m(self, name, tag)\u001b[0m\n\u001b[1;32m   1022\u001b[0m     typ, data \u001b[39m=\u001b[39m \u001b[39mself\u001b[39m\u001b[39m.\u001b[39m_get_tagged_response(tag, expect_bye\u001b[39m=\u001b[39mlogout)\n\u001b[1;32m   1023\u001b[0m \u001b[39mexcept\u001b[39;00m \u001b[39mself\u001b[39m\u001b[39m.\u001b[39mabort \u001b[39mas\u001b[39;00m val:\n\u001b[0;32m-> 1024\u001b[0m     \u001b[39mraise\u001b[39;00m \u001b[39mself\u001b[39m\u001b[39m.\u001b[39mabort(\u001b[39m'\u001b[39m\u001b[39mcommand: \u001b[39m\u001b[39m%s\u001b[39;00m\u001b[39m => \u001b[39m\u001b[39m%s\u001b[39;00m\u001b[39m'\u001b[39m \u001b[39m%\u001b[39m (name, val))\n\u001b[1;32m   1025\u001b[0m \u001b[39mexcept\u001b[39;00m \u001b[39mself\u001b[39m\u001b[39m.\u001b[39merror \u001b[39mas\u001b[39;00m val:\n\u001b[1;32m   1026\u001b[0m     \u001b[39mraise\u001b[39;00m \u001b[39mself\u001b[39m\u001b[39m.\u001b[39merror(\u001b[39m'\u001b[39m\u001b[39mcommand: \u001b[39m\u001b[39m%s\u001b[39;00m\u001b[39m => \u001b[39m\u001b[39m%s\u001b[39;00m\u001b[39m'\u001b[39m \u001b[39m%\u001b[39m (name, val))\n",
      "\u001b[0;31mabort\u001b[0m: command: FETCH => FETCH failed: Mailbox was deleted under us"
     ]
    }
   ],
   "source": [
    "for num in messages[0].split():\n",
    "    typ, data = imap.fetch(num, '(RFC822)')\n",
    "    email_message = email.message_from_bytes(data[0][1])\n",
    "    subject = email_message['subject']\n",
    "    from_address = email_message['from']\n",
    "    body = email_message.get_payload(decode=True).decode('utf-8') if isinstance(email_message.get_payload(), bytes) \\\n",
    "        else email_message.get_payload(decode=True)\n",
    "    print(from_address, subject)"
   ]
  },
  {
   "cell_type": "code",
   "execution_count": null,
   "metadata": {},
   "outputs": [
    {
     "data": {
      "text/plain": [
       "('BYE', [b'Logging out'])"
      ]
     },
     "execution_count": 6,
     "metadata": {},
     "output_type": "execute_result"
    }
   ],
   "source": [
    "imap.close()\n",
    "imap.logout()"
   ]
  }
 ],
 "metadata": {
  "kernelspec": {
   "display_name": "venv",
   "language": "python",
   "name": "python3"
  },
  "language_info": {
   "codemirror_mode": {
    "name": "ipython",
    "version": 3
   },
   "file_extension": ".py",
   "mimetype": "text/x-python",
   "name": "python",
   "nbconvert_exporter": "python",
   "pygments_lexer": "ipython3",
   "version": "3.8.12"
  },
  "orig_nbformat": 4
 },
 "nbformat": 4,
 "nbformat_minor": 2
}

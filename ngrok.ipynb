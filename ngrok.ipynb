{
 "cells": [
  {
   "cell_type": "code",
   "execution_count": 2,
   "metadata": {},
   "outputs": [
    {
     "name": "stdout",
     "output_type": "stream",
     "text": [
      "                                                                                                    \r"
     ]
    },
    {
     "name": "stderr",
     "output_type": "stream",
     "text": [
      "t=2024-05-10T09:56:36-0300 lvl=warn msg=\"ngrok config file found at both XDG and legacy locations, using XDG location\" xdg_path=/home/gregorio/.config/ngrok/ngrok.yml legacy_path=/home/gregorio/.ngrok2/ngrok.yml\n"
     ]
    },
    {
     "name": "stdout",
     "output_type": "stream",
     "text": [
      "Túnel criado em: https://5039-2804-868-d057-d327-6194-7ac9-d13d-5ea8.ngrok-free.app\n"
     ]
    }
   ],
   "source": [
    "from pyngrok import ngrok\n",
    "\n",
    "ngrok.set_auth_token('')\n",
    "public_url = ngrok.connect(8000).public_url\n",
    "print(f\"Túnel criado em: {public_url}\")"
   ]
  },
  {
   "cell_type": "code",
   "execution_count": 3,
   "metadata": {},
   "outputs": [
    {
     "name": "stdout",
     "output_type": "stream",
     "text": [
      "2024-05-10 09:57:22.923097 aguardando conexao\n",
      "2024-05-10 09:57:36.560579 GET / HTTP/1.1\n",
      "Host: 5039-2804-868-d057-d327-6194-7ac9-d13d-5ea8.ngrok-free.app\n",
      "User-Agent: Mozilla/5.0 (X11; Linux x86_64) AppleWebKit/537.36 (KHTML, like Gecko) Chrome/124.0.0.0 Safari/537.36\n",
      "Accept: text/html,application/xhtml+xml,application/xml;q=0.9,image/avif,image/webp,image/apng,*/*;q=0.8,application/signed-exchange;v=b3;q=0.7\n",
      "Accept-Encoding: gzip, deflate, br, zstd\n",
      "Accept-Language: pt-BR,pt;q=0.9,en-US;q=0.8,en;q=0.7\n",
      "Priority: u=0, i\n",
      "Sec-Ch-Ua: \"Chromium\";v=\"124\", \"Google Chrome\";v=\"124\", \"Not-A.Brand\";v=\"99\"\n",
      "Sec-Ch-Ua-Mobile: ?0\n",
      "Sec-Ch-Ua-Platform: \"Linux\"\n",
      "Sec-Fetch-Dest: document\n",
      "Sec-Fetch-Mode: navigate\n",
      "Sec-Fetch-Site: none\n",
      "Sec-Fetch-User: ?1\n",
      "Upgrade-Insecure-Requests: 1\n",
      "X-Forwarded-For: 2804:868:d057:d327:6194:7ac9:d13d:5ea8\n",
      "X-Forwarded-Host: 5039-2804-868-d057-d327-6194-7ac9-d13d-5ea8.ngrok-free.app\n",
      "X-Forwarded-Proto: https\n",
      "\n",
      "\n",
      "2024-05-10 09:57:36.560938 Terminei!!!!\n",
      "2024-05-10 09:57:36.560978 aguardando conexao\n",
      "2024-05-10 09:57:37.002882 GET /favicon.ico HTTP/1.1\n",
      "Host: 5039-2804-868-d057-d327-6194-7ac9-d13d-5ea8.ngrok-free.app\n",
      "User-Agent: Mozilla/5.0 (X11; Linux x86_64) AppleWebKit/537.36 (KHTML, like Gecko) Chrome/124.0.0.0 Safari/537.36\n",
      "Accept: image/avif,image/webp,image/apng,image/svg+xml,image/*,*/*;q=0.8\n",
      "Accept-Encoding: gzip, deflate, br, zstd\n",
      "Accept-Language: pt-BR,pt;q=0.9,en-US;q=0.8,en;q=0.7\n",
      "Priority: u=1, i\n",
      "Referer: https://5039-2804-868-d057-d327-6194-7ac9-d13d-5ea8.ngrok-free.app/\n",
      "Sec-Ch-Ua: \"Chromium\";v=\"124\", \"Google Chrome\";v=\"124\", \"Not-A.Brand\";v=\"99\"\n",
      "Sec-Ch-Ua-Mobile: ?0\n",
      "Sec-Ch-Ua-Platform: \"Linux\"\n",
      "Sec-Fetch-Dest: image\n",
      "Sec-Fetch-Mode: no-cors\n",
      "Sec-Fetch-Site: same-origin\n",
      "X-Forwarded-For: 2804:868:d057:d327:6194:7ac9:d13d:5ea8\n",
      "X-Forwarded-Host: 5039-2804-868-d057-d327-6194-7ac9-d13d-5ea8.ngrok-free.app\n",
      "X-Forwarded-Proto: https\n",
      "\n",
      "\n",
      "2024-05-10 09:57:37.003244 Terminei!!!!\n",
      "2024-05-10 09:57:37.003259 aguardando conexao\n"
     ]
    }
   ],
   "source": [
    "import socket\n",
    "from datetime import datetime\n",
    "s = socket.socket(socket.AF_INET, socket.SOCK_STREAM)\n",
    "s.bind(('0.0.0.0', 8000))\n",
    "s.listen()\n",
    "http_response = \"HTTP/1.1 200 OK\\r\\n\" \\\n",
    "                \"Content-Type: text/html\\r\\n\" \\\n",
    "                \"\\r\\n\" \\\n",
    "                \"<html><body><h1>Olá, <b>mundo</b>!</h1></body></html>\"\n",
    "\n",
    "while True:\n",
    "    print(datetime.now(), 'aguardando conexao')\n",
    "    conn, endereco_remoto = s.accept()\n",
    "    dados = conn.recv(1024)\n",
    "    print(datetime.now(), dados.decode())\n",
    "    conn.sendall(http_response.encode())\n",
    "    conn.close()\n",
    "    print(datetime.now(), 'Terminei!!!!')\n",
    "    "
   ]
  }
 ],
 "metadata": {
  "kernelspec": {
   "display_name": "Python 3",
   "language": "python",
   "name": "python3"
  },
  "language_info": {
   "codemirror_mode": {
    "name": "ipython",
    "version": 3
   },
   "file_extension": ".py",
   "mimetype": "text/x-python",
   "name": "python",
   "nbconvert_exporter": "python",
   "pygments_lexer": "ipython3",
   "version": "3.12.0"
  },
  "orig_nbformat": 4,
  "vscode": {
   "interpreter": {
    "hash": "04a817df96654ef89a4bb97fbe0d48c9931a1f4a589b9ac7c2841dccdce8f83a"
   }
  }
 },
 "nbformat": 4,
 "nbformat_minor": 2
}
